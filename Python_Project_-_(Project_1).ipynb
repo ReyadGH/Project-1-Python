{
  "cells": [
    {
      "cell_type": "markdown",
      "metadata": {},
      "source": [
        "# Project intro & description\n",
        "\n",
        "This project will ..."
      ]
    },
    {
      "cell_type": "markdown",
      "metadata": {},
      "source": [
        "# Requirment (We may not need it)"
      ]
    },
    {
      "cell_type": "code",
      "execution_count": 1,
      "metadata": {},
      "outputs": [
        {
          "name": "stdout",
          "output_type": "stream",
          "text": [
            "Requirement already satisfied: ipywidgets in c:\\users\\reyad\\appdata\\local\\programs\\python\\python311\\lib\\site-packages (8.0.4)\n",
            "Requirement already satisfied: ipykernel>=4.5.1 in c:\\users\\reyad\\appdata\\local\\programs\\python\\python311\\lib\\site-packages (from ipywidgets) (6.19.4)\n",
            "Requirement already satisfied: ipython>=6.1.0 in c:\\users\\reyad\\appdata\\local\\programs\\python\\python311\\lib\\site-packages (from ipywidgets) (8.8.0)\n",
            "Requirement already satisfied: traitlets>=4.3.1 in c:\\users\\reyad\\appdata\\local\\programs\\python\\python311\\lib\\site-packages (from ipywidgets) (5.8.0)\n",
            "Requirement already satisfied: widgetsnbextension~=4.0 in c:\\users\\reyad\\appdata\\local\\programs\\python\\python311\\lib\\site-packages (from ipywidgets) (4.0.5)\n",
            "Requirement already satisfied: jupyterlab-widgets~=3.0 in c:\\users\\reyad\\appdata\\local\\programs\\python\\python311\\lib\\site-packages (from ipywidgets) (3.0.5)\n",
            "Requirement already satisfied: comm>=0.1.1 in c:\\users\\reyad\\appdata\\local\\programs\\python\\python311\\lib\\site-packages (from ipykernel>=4.5.1->ipywidgets) (0.1.2)\n",
            "Requirement already satisfied: debugpy>=1.0 in c:\\users\\reyad\\appdata\\local\\programs\\python\\python311\\lib\\site-packages (from ipykernel>=4.5.1->ipywidgets) (1.6.5)\n",
            "Requirement already satisfied: jupyter-client>=6.1.12 in c:\\users\\reyad\\appdata\\local\\programs\\python\\python311\\lib\\site-packages (from ipykernel>=4.5.1->ipywidgets) (7.4.8)\n",
            "Requirement already satisfied: matplotlib-inline>=0.1 in c:\\users\\reyad\\appdata\\local\\programs\\python\\python311\\lib\\site-packages (from ipykernel>=4.5.1->ipywidgets) (0.1.6)\n",
            "Requirement already satisfied: nest-asyncio in c:\\users\\reyad\\appdata\\local\\programs\\python\\python311\\lib\\site-packages (from ipykernel>=4.5.1->ipywidgets) (1.5.6)\n",
            "Requirement already satisfied: packaging in c:\\users\\reyad\\appdata\\roaming\\python\\python311\\site-packages (from ipykernel>=4.5.1->ipywidgets) (23.0)\n",
            "Requirement already satisfied: psutil in c:\\users\\reyad\\appdata\\local\\programs\\python\\python311\\lib\\site-packages (from ipykernel>=4.5.1->ipywidgets) (5.9.4)\n",
            "Requirement already satisfied: pyzmq>=17 in c:\\users\\reyad\\appdata\\local\\programs\\python\\python311\\lib\\site-packages (from ipykernel>=4.5.1->ipywidgets) (24.0.1)\n",
            "Requirement already satisfied: tornado>=6.1 in c:\\users\\reyad\\appdata\\local\\programs\\python\\python311\\lib\\site-packages (from ipykernel>=4.5.1->ipywidgets) (6.2)\n",
            "Requirement already satisfied: backcall in c:\\users\\reyad\\appdata\\local\\programs\\python\\python311\\lib\\site-packages (from ipython>=6.1.0->ipywidgets) (0.2.0)\n",
            "Requirement already satisfied: decorator in c:\\users\\reyad\\appdata\\local\\programs\\python\\python311\\lib\\site-packages (from ipython>=6.1.0->ipywidgets) (5.1.1)\n",
            "Requirement already satisfied: jedi>=0.16 in c:\\users\\reyad\\appdata\\local\\programs\\python\\python311\\lib\\site-packages (from ipython>=6.1.0->ipywidgets) (0.19.1)\n",
            "Requirement already satisfied: pickleshare in c:\\users\\reyad\\appdata\\local\\programs\\python\\python311\\lib\\site-packages (from ipython>=6.1.0->ipywidgets) (0.7.5)\n",
            "Requirement already satisfied: prompt-toolkit<3.1.0,>=3.0.11 in c:\\users\\reyad\\appdata\\local\\programs\\python\\python311\\lib\\site-packages (from ipython>=6.1.0->ipywidgets) (3.0.36)\n",
            "Requirement already satisfied: pygments>=2.4.0 in c:\\users\\reyad\\appdata\\local\\programs\\python\\python311\\lib\\site-packages (from ipython>=6.1.0->ipywidgets) (2.14.0)\n",
            "Requirement already satisfied: stack-data in c:\\users\\reyad\\appdata\\local\\programs\\python\\python311\\lib\\site-packages (from ipython>=6.1.0->ipywidgets) (0.6.2)\n",
            "Requirement already satisfied: colorama in c:\\users\\reyad\\appdata\\local\\programs\\python\\python311\\lib\\site-packages (from ipython>=6.1.0->ipywidgets) (0.4.6)\n",
            "Requirement already satisfied: parso<0.9.0,>=0.8.3 in c:\\users\\reyad\\appdata\\local\\programs\\python\\python311\\lib\\site-packages (from jedi>=0.16->ipython>=6.1.0->ipywidgets) (0.8.3)\n",
            "Requirement already satisfied: entrypoints in c:\\users\\reyad\\appdata\\local\\programs\\python\\python311\\lib\\site-packages (from jupyter-client>=6.1.12->ipykernel>=4.5.1->ipywidgets) (0.4)\n",
            "Requirement already satisfied: jupyter-core>=4.9.2 in c:\\users\\reyad\\appdata\\local\\programs\\python\\python311\\lib\\site-packages (from jupyter-client>=6.1.12->ipykernel>=4.5.1->ipywidgets) (5.1.2)\n",
            "Requirement already satisfied: python-dateutil>=2.8.2 in c:\\users\\reyad\\appdata\\local\\programs\\python\\python311\\lib\\site-packages (from jupyter-client>=6.1.12->ipykernel>=4.5.1->ipywidgets) (2.8.2)\n",
            "Requirement already satisfied: wcwidth in c:\\users\\reyad\\appdata\\local\\programs\\python\\python311\\lib\\site-packages (from prompt-toolkit<3.1.0,>=3.0.11->ipython>=6.1.0->ipywidgets) (0.2.5)\n",
            "Requirement already satisfied: executing>=1.2.0 in c:\\users\\reyad\\appdata\\local\\programs\\python\\python311\\lib\\site-packages (from stack-data->ipython>=6.1.0->ipywidgets) (1.2.0)\n",
            "Requirement already satisfied: asttokens>=2.1.0 in c:\\users\\reyad\\appdata\\local\\programs\\python\\python311\\lib\\site-packages (from stack-data->ipython>=6.1.0->ipywidgets) (2.2.1)\n",
            "Requirement already satisfied: pure-eval in c:\\users\\reyad\\appdata\\local\\programs\\python\\python311\\lib\\site-packages (from stack-data->ipython>=6.1.0->ipywidgets) (0.2.2)\n",
            "Requirement already satisfied: six in c:\\users\\reyad\\appdata\\roaming\\python\\python311\\site-packages (from asttokens>=2.1.0->stack-data->ipython>=6.1.0->ipywidgets) (1.16.0)\n",
            "Requirement already satisfied: platformdirs>=2.5 in c:\\users\\reyad\\appdata\\local\\programs\\python\\python311\\lib\\site-packages (from jupyter-core>=4.9.2->jupyter-client>=6.1.12->ipykernel>=4.5.1->ipywidgets) (4.1.0)\n",
            "Requirement already satisfied: pywin32>=1.0 in c:\\users\\reyad\\appdata\\local\\programs\\python\\python311\\lib\\site-packages (from jupyter-core>=4.9.2->jupyter-client>=6.1.12->ipykernel>=4.5.1->ipywidgets) (305)\n"
          ]
        },
        {
          "name": "stderr",
          "output_type": "stream",
          "text": [
            "\n",
            "[notice] A new release of pip is available: 23.3.1 -> 24.0\n",
            "[notice] To update, run: python.exe -m pip install --upgrade pip\n"
          ]
        }
      ],
      "source": [
        "! pip install matplotlib\n",
        "! pip install ipywidgets"
      ]
    },
    {
      "cell_type": "markdown",
      "metadata": {},
      "source": [
        "## Setup\n",
        "\n",
        "The next cell is for initiating the project imports and global variables"
      ]
    },
    {
      "cell_type": "code",
      "execution_count": 1,
      "metadata": {},
      "outputs": [
        {
          "data": {
            "text/plain": [
              "' This dictionary should contain records for the temperature of each city by month and also the annual average temperature at the end of a list. '"
            ]
          },
          "execution_count": 1,
          "metadata": {},
          "output_type": "execute_result"
        }
      ],
      "source": [
        "import ipywidgets as widgets\n",
        "import datetime\n",
        "\n",
        "data = {}\n",
        "''' This dictionary should contain records for the temperature of each city by month and also the annual average temperature at the end of a list. '''"
      ]
    },
    {
      "cell_type": "markdown",
      "metadata": {},
      "source": [
        "## some text"
      ]
    },
    {
      "cell_type": "code",
      "execution_count": 18,
      "metadata": {},
      "outputs": [
        {
          "name": "stdout",
          "output_type": "stream",
          "text": [
            "Loading files...\n",
            "Data loaded: {'Riyadh': [19.9, 22.7, 29.4, 35.1, 40.3, 42.1, 44.1, 44.8, 41.4, 36.4, 27.7, 26.0, 34.2], 'Jeddah': [29.1, 29.3, 33.7, 35.2, 37.7, 39.8, 40.6, 38.3, 37.6, 36.8, 33.9, 31.1, 35.3], 'Makkah': [30.4, 31.9, 36.3, 39.9, 43.0, 44.3, 43.3, 42.1, 42.8, 41.1, 36.4, 33.3, 38.7], 'Madinah': [24.2, 26.3, 31.9, 37.3, 40.1, 42.6, 43.0, 45.9, 42.9, 37.9, 31.3, 28.5, 36.0], 'Dhahran': [21.7, 23.5, 29.1, 34.8, 39.9, 42.0, 44.1, 43.1, 41.4, 37.3, 29.7, 27.0, 34.5], 'Taif': [22.0, 25.3, 27.2, 31.5, 34.6, 35.2, 35.2, 36.5, 35.6, 32.0, 27.1, 26.0, 30.7], 'Tabouk': [18.8, 20.4, 27.7, 30.7, 34.4, 38.2, 38.9, 40.6, 36.3, 31.6, 26.1, 19.5, 30.3], 'Hail': [17.3, 19.8, 25.6, 30.5, 34.5, 38.4, 40.0, 42.0, 38.7, 32.9, 24.8, 21.7, 30.5], 'Al-Wajh': [24.9, 24.5, 28.7, 30.1, 31.7, 32.6, 34.5, 34.1, 32.8, 31.4, 29.0, 25.7, 30.0], 'Khamis Mushait': [21.6, 23.6, 24.3, 28.2, 30.9, 31.7, 31.9, 32.4, 30.6, 28.2, 24.8, 24.6, 27.7], 'Jazan': [30.3, 31.2, 33.0, 35.5, 38.0, 38.4, 37.7, 37.8, 38.5, 37.6, 35.1, 32.7, 35.5], 'Yanbu': [29.0, 29.3, 32.9, 36.6, 40.1, 39.9, 40.6, 41.5, 41.2, 39.0, 33.7, 30.7, 36.2], 'Al-Jawf': [16.1, 18.6, 26.0, 29.5, 33.9, 38.5, 40.5, 42.3, 37.6, 31.2, 23.4, 18.6, 30.3], 'Bisha': [25.1, 28.4, 31.0, 35.6, 38.4, 39.0, 40.1, 41.1, 38.4, 34.7, 30.1, 30.2, 34.3], 'Turaif': [15.3, 16.6, 24.6, 25.9, 30.5, 35.9, 37.8, 38.9, 34.8, 28.5, 20.4, 16.7, 27.2], 'Hafr Al-Bbatin': [17.6, 22.0, 28.8, 34.8, 39.8, 43.1, 45.0, 46.6, 43.0, 36.4, 27.0, 22.3, 33.9], \"Ar'ar\": [15.9, 19.2, 27.0, 29.4, 34.6, 39.9, 42.6, 43.9, 39.5, 32.6, 24.2, 18.9, 30.6], 'Rafhah': [17.0, 21.1, 27.8, 32.0, 36.6, 40.9, 43.0, 45.4, 41.1, 34.0, 25.4, 20.5, 32.1], 'Najran': [24.1, 28.3, 30.2, 34.7, 37.9, 39.0, 39.8, 39.4, 36.6, 33.0, 28.3, 28.5, 33.3], 'Abha': [19.6, 22.0, 23.1, 27.0, 30.1, 30.9, 30.8, 31.1, 29.9, 27.1, 23.2, 22.7, 26.5], 'Qurrayat': [17.5, 18.8, 27.4, 28.5, 33.2, 37.7, 39.6, 39.3, 36.3, 30.7, 22.6, 18.5, 29.2], 'Al-Baha': [22.3, 25.5, 27.0, 30.9, 34.1, 34.6, 35.4, 36.2, 34.4, 30.3, 26.0, 25.5, 30.2], 'Sharurah': [24.5, 29.2, 34.3, 38.3, 42.3, 42.6, 43.4, 43.0, 40.9, 37.2, 31.3, 30.8, 36.5], 'Al-Ahsa': [21.3, 24.3, 31.5, 37.1, 43.2, 44.4, 46.5, 46.6, 44.0, 39.0, 30.2, 28.4, 36.4], 'Wadi Al-Dawasir': [23.7, 27.0, 32.8, 38.2, 42.0, 43.2, 44.6, 45.1, 42.0, 37.0, 30.2, 29.6, 36.3], 'Al-Qaysumah': [17.2, 21.6, 29.0, 35.0, 40.1, 42.9, 45.1, 47.1, 42.8, 36.2, 27.0, 22.3, 33.9]}\n"
          ]
        }
      ],
      "source": [
        "def data_loader(target: str) -> None:\n",
        "    '''     \n",
        "    Loads numerical data from a CSV file into a global dictionary.\n",
        "    \n",
        "    Parameters:\n",
        "    - target (str): Path to the CSV file.\n",
        "\n",
        "    Example:\n",
        "    output = { \"Riyadh\": [30.1, 32.5, ...], ...}\n",
        "'''\n",
        "    # clear the data\n",
        "    data.clear()\n",
        "\n",
        "    print(\"Loading files...\")\n",
        "\n",
        "    # open target file\n",
        "    dataFile = open(target, \"r\")\n",
        "    \n",
        "    # here we split the data after reading by line\n",
        "    linesList = dataFile.read().split(\"\\n\")\n",
        "    \n",
        "    # here we remove the header for this file\n",
        "    linesList.remove(linesList[0])\n",
        "\n",
        "    # here we split and cast the data for each line\n",
        "    for line in linesList:\n",
        "        # here we define 2 variables to store both key and the value for the dict\n",
        "        key, value  = line.split(\",\")[0], [float(f) for f in line.split(\",\")[1:]]\n",
        "        data[key] = value\n",
        "\n",
        "    # Or we can use the code below insted of the loop\n",
        "    # data = {n.split(\",\")[0] : ([float(f) for f in n.split(\",\")[1:]]) for n in linesList} # this is another solution to our problem\n",
        "\n",
        "data_loader(\"data.csv\")\n",
        "print(f\"Data loaded: {data}\")"
      ]
    },
    {
      "cell_type": "markdown",
      "metadata": {},
      "source": [
        "## some text"
      ]
    },
    {
      "cell_type": "code",
      "execution_count": 19,
      "metadata": {},
      "outputs": [],
      "source": [
        "# this function will handle user prefrenceses such as the months range and the cities\n",
        "def data_filter(months, cities, data):\n",
        "\n",
        "    newdict = {}\n",
        "    for city in cities:\n",
        "        if city in data:\n",
        "            if len(months) == 12:\n",
        "                newdict[city] = data[city][12]\n",
        "            else:\n",
        "                newdict[city] = data[city][months[0]:months[1]]\n",
        "    return newdict\n",
        "\n",
        "\n"
      ]
    },
    {
      "cell_type": "markdown",
      "metadata": {},
      "source": [
        "## calculate_mean_temperature"
      ]
    },
    {
      "cell_type": "code",
      "execution_count": 20,
      "metadata": {},
      "outputs": [
        {
          "name": "stdout",
          "output_type": "stream",
          "text": [
            "{'Riyadh': 24, 'Jeddah': 30}\n"
          ]
        }
      ],
      "source": [
        "def calculate_mean_temperature(data: dict):\n",
        "    # Define a lambda function to calculate the mean temperature for a given list of temperature values\n",
        "    calculate_mean = lambda lst: sum(lst)/len(lst)\n",
        "\n",
        "    # Calculate the mean temperature for each city in the data dictionary\n",
        "    meanTemp = {city: int(calculate_mean(temps)) for city, temps in data.items()}\n",
        "\n",
        "    # Return the dictionary of mean temperatures\n",
        "    return meanTemp\n",
        "\n",
        "# Define the data dictionary\n",
        "data = {'Riyadh': [19.9, 22.7, 29.4], 'Jeddah': [29.1, 29.3, 33.7]}\n",
        "\n",
        "# Call the calculate_mean_temperature function with the data dictionary as the argument\n",
        "# and print the resulting dictionary of mean temperatures\n",
        "print(calculate_mean_temperature(data))"
      ]
    },
    {
      "cell_type": "markdown",
      "metadata": {},
      "source": [
        "## some text"
      ]
    },
    {
      "cell_type": "code",
      "execution_count": 21,
      "metadata": {},
      "outputs": [
        {
          "name": "stdout",
          "output_type": "stream",
          "text": [
            "Based on our calculations, the best city is Taif\n",
            "\n",
            "the full Weather Report :\n",
            "============================================================\n",
            "\n",
            "City: Taif\n",
            "--------------\n",
            "Temperatures:\n",
            "1. 22°C\n",
            "2. 33°C\n",
            "3. 11°C\n",
            "Average Temperature: 22°C\n",
            "============================================================\n",
            "\n",
            "City: Riyadh\n",
            "--------------\n",
            "Temperatures:\n",
            "1. 19.9°C\n",
            "2. 22.7°C\n",
            "3. 29.4°C\n",
            "Average Temperature: 33°C\n",
            "============================================================\n",
            "\n",
            "City: Jeddah\n",
            "--------------\n",
            "Temperatures:\n",
            "1. 29.1°C\n",
            "2. 29.3°C\n",
            "3. 33.7°C\n",
            "Average Temperature: 36°C\n",
            "============================================================\n"
          ]
        }
      ],
      "source": [
        "def generate_report(data_filter, calculate_mean_temperature):\n",
        "    '''Generates a weather report based on filtered data and mean temperatures.\n",
        "\n",
        "    Parameters:\n",
        "        data_filter (dict): Filtered temperature data for each city.\n",
        "        calculate_mean_temperature (dict): Calculated mean temperatures for each city.\n",
        "\n",
        "    Example:\n",
        "        data_filter = {'Riyadh': [19.9, 22.7, 29.4], 'Jeddah': [29.1, 29.3, 33.7]}\n",
        "        calculate_mean_temperature = {'Riyadh': [33], 'Jeddah': [36],}\n",
        "        generate_report(data_filter, calculate_mean_temperature)\n",
        "\n",
        "    Output:\n",
        "        Based on our calculations, the best city is Riyadh\n",
        "        Weather Report:\n",
        "        ----------------\n",
        "        City: Riyadh\n",
        "        Temperatures: 19.9°C, 22.7°C, 29.4°C\n",
        "        Avg. Temp: 33°C\n",
        "        ----------------\n",
        "        City: Jeddah\n",
        "        Temperatures: 29.1°C, 29.3°C, 33.7°C\n",
        "        Avg. Temp: 36°C'''\n",
        "    \n",
        "    #sorting the cities from lowest average temperature to highest\n",
        "    sorted_cities = sorted(calculate_mean_temperature.items(), key=lambda x: x[1][0])\n",
        "    best_city = sorted_cities[0][0]\n",
        "\n",
        "    print(f\"Based on our calculations, the best city is {best_city}\")\n",
        "    print(\"\\nthe full Weather Report :\")\n",
        "    print(\"============================================================\")\n",
        "    for city, _ in sorted_cities:\n",
        "        print(f\"\\nCity: {city}\")\n",
        "        print(\"--------------\")\n",
        "        print(\"Temperatures:\")\n",
        "        for i, temp in enumerate(data_filter[city], start=1):\n",
        "            print(f\"{i}. {temp}°C\")\n",
        "        print(f\"Average Temperature: {calculate_mean_temperature[city][0]}°C\")\n",
        "        print(\"============================================================\")\n",
        "\n",
        "# Example:\n",
        "data_filter = {\n",
        "    'Riyadh': [19.9, 22.7, 29.4],\n",
        "    'Jeddah': [29.1, 29.3, 33.7],\n",
        "    'Taif': [22, 33, 11]\n",
        "}\n",
        "\n",
        "calculate_mean_temperature = {\n",
        "    'Riyadh': [33],\n",
        "    'Jeddah': [36],\n",
        "    'Taif': [22]\n",
        "}\n",
        "# calling the function\n",
        "generate_report(data_filter, calculate_mean_temperature)\n"
      ]
    },
    {
      "cell_type": "markdown",
      "metadata": {},
      "source": [
        "# we will leave this cell for extra need"
      ]
    },
    {
      "cell_type": "code",
      "execution_count": 25,
      "metadata": {},
      "outputs": [
        {
          "data": {
            "application/vnd.jupyter.widget-view+json": {
              "model_id": "f73545d312b648c89138d7983fbd1def",
              "version_major": 2,
              "version_minor": 0
            },
            "text/plain": [
              "Label(value='Tourism Recommender', style=LabelStyle(font_size='24px', font_weight='bold'))"
            ]
          },
          "metadata": {},
          "output_type": "display_data"
        },
        {
          "data": {
            "application/vnd.jupyter.widget-view+json": {
              "model_id": "e32b8fd5516b4c1d9653004ef622fa9d",
              "version_major": 2,
              "version_minor": 0
            },
            "text/plain": [
              "HTML(value=\"\\n    <p>This Tourism Recommender guides travelers to the best cities in Saudi Arabia based on wea…"
            ]
          },
          "metadata": {},
          "output_type": "display_data"
        },
        {
          "data": {
            "application/vnd.jupyter.widget-view+json": {
              "model_id": "ffaeffbe59f94f61be85ac551db2688e",
              "version_major": 2,
              "version_minor": 0
            },
            "text/plain": [
              "Accordion(children=(VBox(children=(SelectionRangeSlider(continuous_update=False, description='Select range of …"
            ]
          },
          "metadata": {},
          "output_type": "display_data"
        },
        {
          "data": {
            "application/vnd.jupyter.widget-view+json": {
              "model_id": "1255daf3b56d4c8aac0f498195f144eb",
              "version_major": 2,
              "version_minor": 0
            },
            "text/plain": [
              "Output()"
            ]
          },
          "metadata": {},
          "output_type": "display_data"
        }
      ],
      "source": [
        "# Title and Project Description\n",
        "title = widgets.Label(value='Tourism Recommender', style={'font_weight': 'bold', 'font_size': '24px'})\n",
        "description = widgets.HTML(value=\"\"\"\n",
        "    <p>This Tourism Recommender guides travelers to the best cities in Saudi Arabia based on weather. \n",
        "    By selecting months, users see recommended cities with ideal weather conditions. The data, sourced from \n",
        "    the <a href='https://www.ncdc.noaa.gov/' target='_blank'>National Climatic Data Center</a>, \n",
        "    helps tourists plan their visits for an optimal travel experience.</p>\"\"\",\n",
        "    style={'font_size': '16px'})\n",
        "\n",
        "# Months filter setup\n",
        "dates = [datetime.date(2015, i, 1) for i in range(1, 13)]\n",
        "options = [(i.strftime('%b'), i) for i in dates]\n",
        "slider = widgets.SelectionRangeSlider(\n",
        "    options=options,\n",
        "    index=(0, 11),\n",
        "    description=\"Select range of months: \",\n",
        "    continuous_update=False\n",
        ")\n",
        "\n",
        "# Cities filter setup\n",
        "cities_checkboxes = {city: widgets.Checkbox(value=True, description=city, indent=False) for city in data.keys()}\n",
        "cities_box = widgets.VBox(list(cities_checkboxes.values()))\n",
        "\n",
        "# Accordion to hold filters\n",
        "accordion = widgets.Accordion(children=[widgets.VBox([slider]), cities_box], titles=(\"Months\", \"Cities\"))\n",
        "\n",
        "count =0\n",
        "# Display function on widget interaction\n",
        "def on_change(change):\n",
        "    if change['type'] == 'change' and change['name'] == 'value':\n",
        "        month_range = slider.value\n",
        "        selected_cities = [city for city, cb in cities_checkboxes.items() if cb.value]\n",
        "        # print(f\"Selected Months: {month_range}\")\n",
        "        # print(f\"Selected Cities: {selected_cities}\")\n",
        "        update(data)  # Pass current state of data for processing\n",
        "\n",
        "slider.observe(on_change)\n",
        "for checkbox in cities_checkboxes.values():\n",
        "    checkbox.observe(on_change)\n",
        "\n",
        "# Define all widgets and functions as per your script\n",
        "\n",
        "# Display title and description\n",
        "display(title, description)\n",
        "\n",
        "# Display accordion for filters\n",
        "display(accordion)\n",
        "\n",
        "# Create an output widget to display results\n",
        "output = widgets.Output()\n",
        "\n",
        "# Function to update the displayed data, adjusted to output widget\n",
        "def update(updateData):\n",
        "    with output:\n",
        "        output.clear_output()  # Clear the existing output\n",
        "        # Proceed with your sorted data and HTML table generation\n",
        "        sorted_cities = sorted(updateData.items(), key=lambda x: x[1][0], reverse=True)[:5]\n",
        "        html = '<table style=\"width:50%; margin: auto; border-collapse: collapse; border: 1px solid black;\">'\n",
        "        html += '<caption style=\"font-size: 20px; font-weight: bold; margin: 10px;\">Top 5 Cities by Mean Temperature</caption>'\n",
        "        html += '<tr><th style=\"border: 1px solid black; padding: 8px; text-align: center;\">City</th><th style=\"border: 1px solid black; padding: 8px; text-align: center;\">Mean Temperature (°C)</th></tr>'\n",
        "        for city, temp in sorted_cities:\n",
        "            html += f'<tr><td style=\"border: 1px solid black; padding: 8px; text-align: center;\">{city}</td><td style=\"border: 1px solid black; padding: 8px; text-align: center;\">{temp[0]}</td></tr>'\n",
        "        html += '</table>'\n",
        "        display(widgets.HTML(value=html), display_id=\"222222\")\n",
        "\n",
        "# # Display the output widget below the accordion\n",
        "display(output)\n"
      ]
    },
    {
      "cell_type": "code",
      "execution_count": null,
      "metadata": {},
      "outputs": [],
      "source": []
    },
    {
      "cell_type": "code",
      "execution_count": null,
      "metadata": {},
      "outputs": [],
      "source": []
    }
  ],
  "metadata": {
    "kernelspec": {
      "display_name": "Python 3 (ipykernel)",
      "language": "python",
      "name": "python3"
    },
    "language_info": {
      "codemirror_mode": {
        "name": "ipython",
        "version": 3
      },
      "file_extension": ".py",
      "mimetype": "text/x-python",
      "name": "python",
      "nbconvert_exporter": "python",
      "pygments_lexer": "ipython3",
      "version": "3.11.1"
    },
    "varInspector": {
      "cols": {
        "lenName": 16,
        "lenType": 16,
        "lenVar": 40
      },
      "kernels_config": {
        "python": {
          "delete_cmd_postfix": "",
          "delete_cmd_prefix": "del ",
          "library": "var_list.py",
          "varRefreshCmd": "print(var_dic_list())"
        },
        "r": {
          "delete_cmd_postfix": ") ",
          "delete_cmd_prefix": "rm(",
          "library": "var_list.r",
          "varRefreshCmd": "cat(var_dic_list()) "
        }
      },
      "types_to_exclude": [
        "module",
        "function",
        "builtin_function_or_method",
        "instance",
        "_Feature"
      ],
      "window_display": false
    }
  },
  "nbformat": 4,
  "nbformat_minor": 2
}
