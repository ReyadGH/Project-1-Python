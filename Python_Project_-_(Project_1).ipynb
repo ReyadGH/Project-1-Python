{
  "cells": [
    {
      "cell_type": "markdown",
      "metadata": {},
      "source": [
        "# Project intro & description\n",
        "\n",
        "This project will ..."
      ]
    },
    {
      "cell_type": "markdown",
      "metadata": {},
      "source": [
        "# Requirment (We may not need it)"
      ]
    },
    {
      "cell_type": "code",
      "execution_count": null,
      "metadata": {},
      "outputs": [],
      "source": [
        "! pip install matplotlib\n",
        "! pip install ipywidgets"
      ]
    },
    {
      "cell_type": "markdown",
      "metadata": {},
      "source": [
        "## Setup\n",
        "\n",
        "The next cell is for initiating the project imports and global variables"
      ]
    },
    {
      "cell_type": "code",
      "execution_count": 26,
      "metadata": {},
      "outputs": [
        {
          "data": {
            "text/plain": [
              "' This dictionary should contain records for the temperature of each city by month and also the annual average temperature at the end of a list. '"
            ]
          },
          "execution_count": 26,
          "metadata": {},
          "output_type": "execute_result"
        }
      ],
      "source": [
        "import ipywidgets as widgets\n",
        "import datetime\n",
        "\n",
        "global_data = {}\n",
        "''' This dictionary should contain records for the temperature of each city by month and also the annual average temperature at the end of a list. '''"
      ]
    },
    {
      "cell_type": "markdown",
      "metadata": {},
      "source": [
        "## some text"
      ]
    },
    {
      "cell_type": "code",
      "execution_count": 27,
      "metadata": {},
      "outputs": [
        {
          "name": "stdout",
          "output_type": "stream",
          "text": [
            "Loading files...\n",
            "Data loaded: {'Riyadh': [19.9, 22.7, 29.4, 35.1, 40.3, 42.1, 44.1, 44.8, 41.4, 36.4, 27.7, 26.0, 34.2], 'Jeddah': [29.1, 29.3, 33.7, 35.2, 37.7, 39.8, 40.6, 38.3, 37.6, 36.8, 33.9, 31.1, 35.3], 'Makkah': [30.4, 31.9, 36.3, 39.9, 43.0, 44.3, 43.3, 42.1, 42.8, 41.1, 36.4, 33.3, 38.7], 'Madinah': [24.2, 26.3, 31.9, 37.3, 40.1, 42.6, 43.0, 45.9, 42.9, 37.9, 31.3, 28.5, 36.0], 'Dhahran': [21.7, 23.5, 29.1, 34.8, 39.9, 42.0, 44.1, 43.1, 41.4, 37.3, 29.7, 27.0, 34.5], 'Taif': [22.0, 25.3, 27.2, 31.5, 34.6, 35.2, 35.2, 36.5, 35.6, 32.0, 27.1, 26.0, 30.7], 'Tabouk': [18.8, 20.4, 27.7, 30.7, 34.4, 38.2, 38.9, 40.6, 36.3, 31.6, 26.1, 19.5, 30.3], 'Hail': [17.3, 19.8, 25.6, 30.5, 34.5, 38.4, 40.0, 42.0, 38.7, 32.9, 24.8, 21.7, 30.5], 'Al-Wajh': [24.9, 24.5, 28.7, 30.1, 31.7, 32.6, 34.5, 34.1, 32.8, 31.4, 29.0, 25.7, 30.0], 'Khamis Mushait': [21.6, 23.6, 24.3, 28.2, 30.9, 31.7, 31.9, 32.4, 30.6, 28.2, 24.8, 24.6, 27.7], 'Jazan': [30.3, 31.2, 33.0, 35.5, 38.0, 38.4, 37.7, 37.8, 38.5, 37.6, 35.1, 32.7, 35.5], 'Yanbu': [29.0, 29.3, 32.9, 36.6, 40.1, 39.9, 40.6, 41.5, 41.2, 39.0, 33.7, 30.7, 36.2], 'Al-Jawf': [16.1, 18.6, 26.0, 29.5, 33.9, 38.5, 40.5, 42.3, 37.6, 31.2, 23.4, 18.6, 30.3], 'Bisha': [25.1, 28.4, 31.0, 35.6, 38.4, 39.0, 40.1, 41.1, 38.4, 34.7, 30.1, 30.2, 34.3], 'Turaif': [15.3, 16.6, 24.6, 25.9, 30.5, 35.9, 37.8, 38.9, 34.8, 28.5, 20.4, 16.7, 27.2], 'Hafr Al-Bbatin': [17.6, 22.0, 28.8, 34.8, 39.8, 43.1, 45.0, 46.6, 43.0, 36.4, 27.0, 22.3, 33.9], \"Ar'ar\": [15.9, 19.2, 27.0, 29.4, 34.6, 39.9, 42.6, 43.9, 39.5, 32.6, 24.2, 18.9, 30.6], 'Rafhah': [17.0, 21.1, 27.8, 32.0, 36.6, 40.9, 43.0, 45.4, 41.1, 34.0, 25.4, 20.5, 32.1], 'Najran': [24.1, 28.3, 30.2, 34.7, 37.9, 39.0, 39.8, 39.4, 36.6, 33.0, 28.3, 28.5, 33.3], 'Abha': [19.6, 22.0, 23.1, 27.0, 30.1, 30.9, 30.8, 31.1, 29.9, 27.1, 23.2, 22.7, 26.5], 'Qurrayat': [17.5, 18.8, 27.4, 28.5, 33.2, 37.7, 39.6, 39.3, 36.3, 30.7, 22.6, 18.5, 29.2], 'Al-Baha': [22.3, 25.5, 27.0, 30.9, 34.1, 34.6, 35.4, 36.2, 34.4, 30.3, 26.0, 25.5, 30.2], 'Sharurah': [24.5, 29.2, 34.3, 38.3, 42.3, 42.6, 43.4, 43.0, 40.9, 37.2, 31.3, 30.8, 36.5], 'Al-Ahsa': [21.3, 24.3, 31.5, 37.1, 43.2, 44.4, 46.5, 46.6, 44.0, 39.0, 30.2, 28.4, 36.4], 'Wadi Al-Dawasir': [23.7, 27.0, 32.8, 38.2, 42.0, 43.2, 44.6, 45.1, 42.0, 37.0, 30.2, 29.6, 36.3], 'Al-Qaysumah': [17.2, 21.6, 29.0, 35.0, 40.1, 42.9, 45.1, 47.1, 42.8, 36.2, 27.0, 22.3, 33.9]}\n"
          ]
        }
      ],
      "source": [
        "def data_loader(target: str) -> None:\n",
        "    '''     \n",
        "    Loads numerical data from a CSV file into a global dictionary.\n",
        "    \n",
        "    Parameters:\n",
        "    - target (str): Path to the CSV file.\n",
        "\n",
        "    Example:\n",
        "    output = { \"Riyadh\": [30.1, 32.5, ...], ...}\n",
        "'''\n",
        "    # clear the data\n",
        "    global_data.clear()\n",
        "\n",
        "    print(\"Loading files...\")\n",
        "\n",
        "    # open target file\n",
        "    dataFile = open(target, \"r\")\n",
        "    \n",
        "    # here we split the data after reading by line\n",
        "    linesList = dataFile.read().split(\"\\n\")\n",
        "    \n",
        "    # here we remove the header for this file\n",
        "    linesList.remove(linesList[0])\n",
        "\n",
        "    # here we split and cast the data for each line\n",
        "    for line in linesList:\n",
        "        # here we define 2 variables to store both key and the value for the dict\n",
        "        key, value  = line.split(\",\")[0], [float(f) for f in line.split(\",\")[1:]]\n",
        "        global_data[key] = value\n",
        "\n",
        "    # Or we can use the code below insted of the loop\n",
        "    # data = {n.split(\",\")[0] : ([float(f) for f in n.split(\",\")[1:]]) for n in linesList} # this is another solution to our problem\n",
        "\n",
        "data_loader(\"data.csv\")\n",
        "print(f\"Data loaded: {global_data}\")"
      ]
    },
    {
      "cell_type": "markdown",
      "metadata": {},
      "source": [
        "## some text"
      ]
    },
    {
      "cell_type": "code",
      "execution_count": 31,
      "metadata": {},
      "outputs": [
        {
          "data": {
            "text/plain": [
              "{'Riyadh': [19.9,\n",
              "  22.7,\n",
              "  29.4,\n",
              "  35.1,\n",
              "  40.3,\n",
              "  42.1,\n",
              "  44.1,\n",
              "  44.8,\n",
              "  41.4,\n",
              "  36.4,\n",
              "  27.7,\n",
              "  26.0],\n",
              " 'Jeddah': [29.1,\n",
              "  29.3,\n",
              "  33.7,\n",
              "  35.2,\n",
              "  37.7,\n",
              "  39.8,\n",
              "  40.6,\n",
              "  38.3,\n",
              "  37.6,\n",
              "  36.8,\n",
              "  33.9,\n",
              "  31.1]}"
            ]
          },
          "execution_count": 31,
          "metadata": {},
          "output_type": "execute_result"
        }
      ],
      "source": [
        "# this function will handle user prefrenceses such as the months range and the cities\n",
        "def data_filter(months: list[int], cities: list[str], data: dict):\n",
        "\n",
        "    newDict = {}\n",
        "\n",
        "    for key, value in data.items():\n",
        "        if key in cities:\n",
        "            newDict[key] = value[months[0]:months[1]]\n",
        "    return newDict\n",
        "\n",
        "data_filter([0,12], [\"Riyadh\", \"Jeddah\"], global_data)\n"
      ]
    },
    {
      "cell_type": "markdown",
      "metadata": {},
      "source": [
        "## calculate_mean_temperature"
      ]
    },
    {
      "cell_type": "code",
      "execution_count": 54,
      "metadata": {},
      "outputs": [
        {
          "name": "stdout",
          "output_type": "stream",
          "text": [
            "{'Riyadh': 34, 'Jeddah': 35}\n"
          ]
        }
      ],
      "source": [
        "def calculate_mean_temperature(data: dict):\n",
        "    try:\n",
        "        # Define a lambda function to calculate the mean temperature for a given list of temperature values\n",
        "        calculate_mean = lambda lst: sum(lst)/len(lst)\n",
        "        \n",
        "        # Calculate the mean temperature for each city in the data dictionary\n",
        "        meanTemp = {city: int(calculate_mean(temps)) for city, temps in data.items()}\n",
        "\n",
        "        # Return the dictionary of mean temperatures\n",
        "        return meanTemp\n",
        "    except:\n",
        "        print(\"Error\")\n",
        "        return data\n",
        "\n",
        "\n",
        "\n",
        "# Define the data dictionary\n",
        "data_temp = data_filter([0,12], [\"Riyadh\", \"Jeddah\"], global_data)\n",
        "\n",
        "# Call the calculate_mean_temperature function with the data dictionary as the argument\n",
        "# and print the resulting dictionary of mean temperatures\n",
        "print(calculate_mean_temperature(data_temp))"
      ]
    },
    {
      "cell_type": "markdown",
      "metadata": {},
      "source": [
        "## some text"
      ]
    },
    {
      "cell_type": "code",
      "execution_count": 49,
      "metadata": {},
      "outputs": [
        {
          "name": "stdout",
          "output_type": "stream",
          "text": [
            "filtered data : {'Riyadh': [19.9, 22.7, 29.4], 'Jeddah': [29.1, 29.3, 33.7], 'Taif': [22.0, 25.3, 27.2]}\n",
            "Mean temperature data : {'Riyadh': 24, 'Jeddah': 30, 'Taif': 24}\n",
            "\n",
            "\n",
            "Based on our calculations, the best city is Riyadh\n",
            "\n",
            "the full Weather Report :\n",
            "============================================================\n",
            "\n",
            "City: Riyadh\n",
            "--------------\n",
            "Temperatures:\n",
            "1. 19.9°C\n",
            "2. 22.7°C\n",
            "3. 29.4°C\n",
            "Average Temperature: 24°C\n",
            "============================================================\n",
            "\n",
            "City: Taif\n",
            "--------------\n",
            "Temperatures:\n",
            "1. 22.0°C\n",
            "2. 25.3°C\n",
            "3. 27.2°C\n",
            "Average Temperature: 24°C\n",
            "============================================================\n",
            "\n",
            "City: Jeddah\n",
            "--------------\n",
            "Temperatures:\n",
            "1. 29.1°C\n",
            "2. 29.3°C\n",
            "3. 33.7°C\n",
            "Average Temperature: 30°C\n",
            "============================================================\n"
          ]
        }
      ],
      "source": [
        "def generate_report(data_filter, calculate_mean_temperature):\n",
        "    '''Generates a weather report based on filtered data and mean temperatures.\n",
        "\n",
        "    Parameters:\n",
        "        data_filter (dict): Filtered temperature data for each city.\n",
        "        calculate_mean_temperature (dict): Calculated mean temperatures for each city.\n",
        "\n",
        "    Example:\n",
        "        data_filter = {'Riyadh': [19.9, 22.7, 29.4], 'Jeddah': [29.1, 29.3, 33.7]}\n",
        "        calculate_mean_temperature = {'Riyadh': [33], 'Jeddah': [36],}\n",
        "        generate_report(data_filter, calculate_mean_temperature)\n",
        "\n",
        "    Output:\n",
        "        Based on our calculations, the best city is Riyadh\n",
        "        Weather Report:\n",
        "        ----------------\n",
        "        City: Riyadh\n",
        "        Temperatures: 19.9°C, 22.7°C, 29.4°C\n",
        "        Avg. Temp: 33°C\n",
        "        ----------------\n",
        "        City: Jeddah\n",
        "        Temperatures: 29.1°C, 29.3°C, 33.7°C\n",
        "        Avg. Temp: 36°C'''\n",
        "    \n",
        "    #sorting the cities from lowest average temperature to highest\n",
        "    sorted_cities = sorted(calculate_mean_temperature.items(), key=lambda x: x[1])\n",
        "    best_city = sorted_cities[0][0]\n",
        "\n",
        "    print(f\"Based on our calculations, the best city is {best_city}\")\n",
        "    print(\"\\nthe full Weather Report :\")\n",
        "    print(\"============================================================\")\n",
        "    for city, _ in sorted_cities:\n",
        "        print(f\"\\nCity: {city}\")\n",
        "        print(\"--------------\")\n",
        "        print(\"Temperatures:\")\n",
        "        for i, temp in enumerate(data_filter[city], start=1):\n",
        "            print(f\"{i}. {temp}°C\")\n",
        "        print(f\"Average Temperature: {calculate_mean_temperature[city]}°C\")\n",
        "        print(\"============================================================\")\n",
        "\n",
        "# Example:\n",
        "data_filter_temp = data_filter([0,3], [\"Riyadh\", \"Jeddah\",\"Taif\"], global_data)\n",
        "# expected output:\n",
        "# {\n",
        "#     'Riyadh': [19.9, 22.7, 29.4],\n",
        "#     'Jeddah': [29.1, 29.3, 33.7],\n",
        "#     'Taif': [22, 33, 11]\n",
        "# }\n",
        "print(f\"filtered data : {data_filter_temp}\")\n",
        "\n",
        "# calculate the mean temperature\n",
        "calculate_mean_temperature_temp = calculate_mean_temperature(data_filter_temp)\n",
        "print(f\"Mean temperature data : {calculate_mean_temperature_temp}\\n\\n\")\n",
        "# expected output:\n",
        "# {\n",
        "#     'Riyadh': [33],\n",
        "#     'Jeddah': [36],\n",
        "#     'Taif': [22]\n",
        "# }\n",
        "\n",
        "# calling the function\n",
        "generate_report(data_filter_temp, calculate_mean_temperature_temp)\n"
      ]
    },
    {
      "cell_type": "markdown",
      "metadata": {},
      "source": [
        "# we will leave this cell for extra need"
      ]
    },
    {
      "cell_type": "code",
      "execution_count": 55,
      "metadata": {},
      "outputs": [
        {
          "data": {
            "application/vnd.jupyter.widget-view+json": {
              "model_id": "43f63ed7537e405fa4aea38ae4d245c1",
              "version_major": 2,
              "version_minor": 0
            },
            "text/plain": [
              "Label(value='Tourism Recommender', style=LabelStyle(font_size='24px', font_weight='bold'))"
            ]
          },
          "metadata": {},
          "output_type": "display_data"
        },
        {
          "data": {
            "application/vnd.jupyter.widget-view+json": {
              "model_id": "cd384f64372642f6bac951386377becf",
              "version_major": 2,
              "version_minor": 0
            },
            "text/plain": [
              "HTML(value=\"\\n    <p>This Tourism Recommender guides travelers to the best cities in Saudi Arabia based on wea…"
            ]
          },
          "metadata": {},
          "output_type": "display_data"
        },
        {
          "data": {
            "application/vnd.jupyter.widget-view+json": {
              "model_id": "13227155c4544d76a0422a8e01d09e25",
              "version_major": 2,
              "version_minor": 0
            },
            "text/plain": [
              "Accordion(children=(VBox(children=(SelectionRangeSlider(continuous_update=False, description='Select range of …"
            ]
          },
          "metadata": {},
          "output_type": "display_data"
        },
        {
          "data": {
            "application/vnd.jupyter.widget-view+json": {
              "model_id": "541ac4d0d935477c897467f38cee8afe",
              "version_major": 2,
              "version_minor": 0
            },
            "text/plain": [
              "Output()"
            ]
          },
          "metadata": {},
          "output_type": "display_data"
        },
        {
          "name": "stdout",
          "output_type": "stream",
          "text": [
            "Selected Months: [6, 12]\n",
            "Selected Cities: ['Riyadh', 'Jeddah', 'Makkah', 'Madinah', 'Dhahran', 'Taif', 'Tabouk', 'Hail', 'Al-Wajh', 'Khamis Mushait', 'Jazan', 'Yanbu', 'Al-Jawf', 'Bisha', 'Turaif', 'Hafr Al-Bbatin', \"Ar'ar\", 'Rafhah', 'Najran', 'Abha', 'Qurrayat', 'Al-Baha', 'Sharurah', 'Al-Ahsa', 'Wadi Al-Dawasir', 'Al-Qaysumah']\n",
            "{'Riyadh': [44.1, 44.8, 41.4, 36.4, 27.7, 26.0], 'Jeddah': [40.6, 38.3, 37.6, 36.8, 33.9, 31.1], 'Makkah': [43.3, 42.1, 42.8, 41.1, 36.4, 33.3], 'Madinah': [43.0, 45.9, 42.9, 37.9, 31.3, 28.5], 'Dhahran': [44.1, 43.1, 41.4, 37.3, 29.7, 27.0], 'Taif': [35.2, 36.5, 35.6, 32.0, 27.1, 26.0], 'Tabouk': [38.9, 40.6, 36.3, 31.6, 26.1, 19.5], 'Hail': [40.0, 42.0, 38.7, 32.9, 24.8, 21.7], 'Al-Wajh': [34.5, 34.1, 32.8, 31.4, 29.0, 25.7], 'Khamis Mushait': [31.9, 32.4, 30.6, 28.2, 24.8, 24.6], 'Jazan': [37.7, 37.8, 38.5, 37.6, 35.1, 32.7], 'Yanbu': [40.6, 41.5, 41.2, 39.0, 33.7, 30.7], 'Al-Jawf': [40.5, 42.3, 37.6, 31.2, 23.4, 18.6], 'Bisha': [40.1, 41.1, 38.4, 34.7, 30.1, 30.2], 'Turaif': [37.8, 38.9, 34.8, 28.5, 20.4, 16.7], 'Hafr Al-Bbatin': [45.0, 46.6, 43.0, 36.4, 27.0, 22.3], \"Ar'ar\": [42.6, 43.9, 39.5, 32.6, 24.2, 18.9], 'Rafhah': [43.0, 45.4, 41.1, 34.0, 25.4, 20.5], 'Najran': [39.8, 39.4, 36.6, 33.0, 28.3, 28.5], 'Abha': [30.8, 31.1, 29.9, 27.1, 23.2, 22.7], 'Qurrayat': [39.6, 39.3, 36.3, 30.7, 22.6, 18.5], 'Al-Baha': [35.4, 36.2, 34.4, 30.3, 26.0, 25.5], 'Sharurah': [43.4, 43.0, 40.9, 37.2, 31.3, 30.8], 'Al-Ahsa': [46.5, 46.6, 44.0, 39.0, 30.2, 28.4], 'Wadi Al-Dawasir': [44.6, 45.1, 42.0, 37.0, 30.2, 29.6], 'Al-Qaysumah': [45.1, 47.1, 42.8, 36.2, 27.0, 22.3]}\n",
            "{'Riyadh': 36, 'Jeddah': 36, 'Makkah': 39, 'Madinah': 38, 'Dhahran': 37, 'Taif': 32, 'Tabouk': 32, 'Hail': 33, 'Al-Wajh': 31, 'Khamis Mushait': 28, 'Jazan': 36, 'Yanbu': 37, 'Al-Jawf': 32, 'Bisha': 35, 'Turaif': 29, 'Hafr Al-Bbatin': 36, \"Ar'ar\": 33, 'Rafhah': 34, 'Najran': 34, 'Abha': 27, 'Qurrayat': 31, 'Al-Baha': 31, 'Sharurah': 37, 'Al-Ahsa': 39, 'Wadi Al-Dawasir': 38, 'Al-Qaysumah': 36}\n"
          ]
        },
        {
          "name": "stdout",
          "output_type": "stream",
          "text": [
            "Selected Months: [12, 12]\n",
            "Selected Cities: ['Riyadh', 'Jeddah', 'Makkah', 'Madinah', 'Dhahran', 'Taif', 'Tabouk', 'Hail', 'Al-Wajh', 'Khamis Mushait', 'Jazan', 'Yanbu', 'Al-Jawf', 'Bisha', 'Turaif', 'Hafr Al-Bbatin', \"Ar'ar\", 'Rafhah', 'Najran', 'Abha', 'Qurrayat', 'Al-Baha', 'Sharurah', 'Al-Ahsa', 'Wadi Al-Dawasir', 'Al-Qaysumah']\n",
            "{'Riyadh': [], 'Jeddah': [], 'Makkah': [], 'Madinah': [], 'Dhahran': [], 'Taif': [], 'Tabouk': [], 'Hail': [], 'Al-Wajh': [], 'Khamis Mushait': [], 'Jazan': [], 'Yanbu': [], 'Al-Jawf': [], 'Bisha': [], 'Turaif': [], 'Hafr Al-Bbatin': [], \"Ar'ar\": [], 'Rafhah': [], 'Najran': [], 'Abha': [], 'Qurrayat': [], 'Al-Baha': [], 'Sharurah': [], 'Al-Ahsa': [], 'Wadi Al-Dawasir': [], 'Al-Qaysumah': []}\n",
            "Error\n",
            "{'Riyadh': [], 'Jeddah': [], 'Makkah': [], 'Madinah': [], 'Dhahran': [], 'Taif': [], 'Tabouk': [], 'Hail': [], 'Al-Wajh': [], 'Khamis Mushait': [], 'Jazan': [], 'Yanbu': [], 'Al-Jawf': [], 'Bisha': [], 'Turaif': [], 'Hafr Al-Bbatin': [], \"Ar'ar\": [], 'Rafhah': [], 'Najran': [], 'Abha': [], 'Qurrayat': [], 'Al-Baha': [], 'Sharurah': [], 'Al-Ahsa': [], 'Wadi Al-Dawasir': [], 'Al-Qaysumah': []}\n"
          ]
        },
        {
          "name": "stdout",
          "output_type": "stream",
          "text": [
            "Selected Months: [7, 12]\n",
            "Selected Cities: ['Riyadh', 'Jeddah', 'Makkah', 'Madinah', 'Dhahran', 'Taif', 'Tabouk', 'Hail', 'Al-Wajh', 'Khamis Mushait', 'Jazan', 'Yanbu', 'Al-Jawf', 'Bisha', 'Turaif', 'Hafr Al-Bbatin', \"Ar'ar\", 'Rafhah', 'Najran', 'Abha', 'Qurrayat', 'Al-Baha', 'Sharurah', 'Al-Ahsa', 'Wadi Al-Dawasir', 'Al-Qaysumah']\n",
            "{'Riyadh': [44.8, 41.4, 36.4, 27.7, 26.0], 'Jeddah': [38.3, 37.6, 36.8, 33.9, 31.1], 'Makkah': [42.1, 42.8, 41.1, 36.4, 33.3], 'Madinah': [45.9, 42.9, 37.9, 31.3, 28.5], 'Dhahran': [43.1, 41.4, 37.3, 29.7, 27.0], 'Taif': [36.5, 35.6, 32.0, 27.1, 26.0], 'Tabouk': [40.6, 36.3, 31.6, 26.1, 19.5], 'Hail': [42.0, 38.7, 32.9, 24.8, 21.7], 'Al-Wajh': [34.1, 32.8, 31.4, 29.0, 25.7], 'Khamis Mushait': [32.4, 30.6, 28.2, 24.8, 24.6], 'Jazan': [37.8, 38.5, 37.6, 35.1, 32.7], 'Yanbu': [41.5, 41.2, 39.0, 33.7, 30.7], 'Al-Jawf': [42.3, 37.6, 31.2, 23.4, 18.6], 'Bisha': [41.1, 38.4, 34.7, 30.1, 30.2], 'Turaif': [38.9, 34.8, 28.5, 20.4, 16.7], 'Hafr Al-Bbatin': [46.6, 43.0, 36.4, 27.0, 22.3], \"Ar'ar\": [43.9, 39.5, 32.6, 24.2, 18.9], 'Rafhah': [45.4, 41.1, 34.0, 25.4, 20.5], 'Najran': [39.4, 36.6, 33.0, 28.3, 28.5], 'Abha': [31.1, 29.9, 27.1, 23.2, 22.7], 'Qurrayat': [39.3, 36.3, 30.7, 22.6, 18.5], 'Al-Baha': [36.2, 34.4, 30.3, 26.0, 25.5], 'Sharurah': [43.0, 40.9, 37.2, 31.3, 30.8], 'Al-Ahsa': [46.6, 44.0, 39.0, 30.2, 28.4], 'Wadi Al-Dawasir': [45.1, 42.0, 37.0, 30.2, 29.6], 'Al-Qaysumah': [47.1, 42.8, 36.2, 27.0, 22.3]}\n",
            "{'Riyadh': 35, 'Jeddah': 35, 'Makkah': 39, 'Madinah': 37, 'Dhahran': 35, 'Taif': 31, 'Tabouk': 30, 'Hail': 32, 'Al-Wajh': 30, 'Khamis Mushait': 28, 'Jazan': 36, 'Yanbu': 37, 'Al-Jawf': 30, 'Bisha': 34, 'Turaif': 27, 'Hafr Al-Bbatin': 35, \"Ar'ar\": 31, 'Rafhah': 33, 'Najran': 33, 'Abha': 26, 'Qurrayat': 29, 'Al-Baha': 30, 'Sharurah': 36, 'Al-Ahsa': 37, 'Wadi Al-Dawasir': 36, 'Al-Qaysumah': 35}\n"
          ]
        },
        {
          "name": "stdout",
          "output_type": "stream",
          "text": [
            "Selected Months: [12, 12]\n",
            "Selected Cities: ['Riyadh', 'Jeddah', 'Makkah', 'Madinah', 'Dhahran', 'Taif', 'Tabouk', 'Hail', 'Al-Wajh', 'Khamis Mushait', 'Jazan', 'Yanbu', 'Al-Jawf', 'Bisha', 'Turaif', 'Hafr Al-Bbatin', \"Ar'ar\", 'Rafhah', 'Najran', 'Abha', 'Qurrayat', 'Al-Baha', 'Sharurah', 'Al-Ahsa', 'Wadi Al-Dawasir', 'Al-Qaysumah']\n",
            "{'Riyadh': [], 'Jeddah': [], 'Makkah': [], 'Madinah': [], 'Dhahran': [], 'Taif': [], 'Tabouk': [], 'Hail': [], 'Al-Wajh': [], 'Khamis Mushait': [], 'Jazan': [], 'Yanbu': [], 'Al-Jawf': [], 'Bisha': [], 'Turaif': [], 'Hafr Al-Bbatin': [], \"Ar'ar\": [], 'Rafhah': [], 'Najran': [], 'Abha': [], 'Qurrayat': [], 'Al-Baha': [], 'Sharurah': [], 'Al-Ahsa': [], 'Wadi Al-Dawasir': [], 'Al-Qaysumah': []}\n",
            "Error\n",
            "{'Riyadh': [], 'Jeddah': [], 'Makkah': [], 'Madinah': [], 'Dhahran': [], 'Taif': [], 'Tabouk': [], 'Hail': [], 'Al-Wajh': [], 'Khamis Mushait': [], 'Jazan': [], 'Yanbu': [], 'Al-Jawf': [], 'Bisha': [], 'Turaif': [], 'Hafr Al-Bbatin': [], \"Ar'ar\": [], 'Rafhah': [], 'Najran': [], 'Abha': [], 'Qurrayat': [], 'Al-Baha': [], 'Sharurah': [], 'Al-Ahsa': [], 'Wadi Al-Dawasir': [], 'Al-Qaysumah': []}\n"
          ]
        },
        {
          "name": "stdout",
          "output_type": "stream",
          "text": [
            "Selected Months: [7, 12]\n",
            "Selected Cities: ['Riyadh', 'Jeddah', 'Makkah', 'Madinah', 'Dhahran', 'Taif', 'Tabouk', 'Hail', 'Al-Wajh', 'Khamis Mushait', 'Jazan', 'Yanbu', 'Al-Jawf', 'Bisha', 'Turaif', 'Hafr Al-Bbatin', \"Ar'ar\", 'Rafhah', 'Najran', 'Abha', 'Qurrayat', 'Al-Baha', 'Sharurah', 'Al-Ahsa', 'Wadi Al-Dawasir', 'Al-Qaysumah']\n",
            "{'Riyadh': [44.8, 41.4, 36.4, 27.7, 26.0], 'Jeddah': [38.3, 37.6, 36.8, 33.9, 31.1], 'Makkah': [42.1, 42.8, 41.1, 36.4, 33.3], 'Madinah': [45.9, 42.9, 37.9, 31.3, 28.5], 'Dhahran': [43.1, 41.4, 37.3, 29.7, 27.0], 'Taif': [36.5, 35.6, 32.0, 27.1, 26.0], 'Tabouk': [40.6, 36.3, 31.6, 26.1, 19.5], 'Hail': [42.0, 38.7, 32.9, 24.8, 21.7], 'Al-Wajh': [34.1, 32.8, 31.4, 29.0, 25.7], 'Khamis Mushait': [32.4, 30.6, 28.2, 24.8, 24.6], 'Jazan': [37.8, 38.5, 37.6, 35.1, 32.7], 'Yanbu': [41.5, 41.2, 39.0, 33.7, 30.7], 'Al-Jawf': [42.3, 37.6, 31.2, 23.4, 18.6], 'Bisha': [41.1, 38.4, 34.7, 30.1, 30.2], 'Turaif': [38.9, 34.8, 28.5, 20.4, 16.7], 'Hafr Al-Bbatin': [46.6, 43.0, 36.4, 27.0, 22.3], \"Ar'ar\": [43.9, 39.5, 32.6, 24.2, 18.9], 'Rafhah': [45.4, 41.1, 34.0, 25.4, 20.5], 'Najran': [39.4, 36.6, 33.0, 28.3, 28.5], 'Abha': [31.1, 29.9, 27.1, 23.2, 22.7], 'Qurrayat': [39.3, 36.3, 30.7, 22.6, 18.5], 'Al-Baha': [36.2, 34.4, 30.3, 26.0, 25.5], 'Sharurah': [43.0, 40.9, 37.2, 31.3, 30.8], 'Al-Ahsa': [46.6, 44.0, 39.0, 30.2, 28.4], 'Wadi Al-Dawasir': [45.1, 42.0, 37.0, 30.2, 29.6], 'Al-Qaysumah': [47.1, 42.8, 36.2, 27.0, 22.3]}\n",
            "{'Riyadh': 35, 'Jeddah': 35, 'Makkah': 39, 'Madinah': 37, 'Dhahran': 35, 'Taif': 31, 'Tabouk': 30, 'Hail': 32, 'Al-Wajh': 30, 'Khamis Mushait': 28, 'Jazan': 36, 'Yanbu': 37, 'Al-Jawf': 30, 'Bisha': 34, 'Turaif': 27, 'Hafr Al-Bbatin': 35, \"Ar'ar\": 31, 'Rafhah': 33, 'Najran': 33, 'Abha': 26, 'Qurrayat': 29, 'Al-Baha': 30, 'Sharurah': 36, 'Al-Ahsa': 37, 'Wadi Al-Dawasir': 36, 'Al-Qaysumah': 35}\n"
          ]
        },
        {
          "name": "stdout",
          "output_type": "stream",
          "text": [
            "Selected Months: [3, 12]\n",
            "Selected Cities: ['Riyadh', 'Jeddah', 'Makkah', 'Madinah', 'Dhahran', 'Taif', 'Tabouk', 'Hail', 'Al-Wajh', 'Khamis Mushait', 'Jazan', 'Yanbu', 'Al-Jawf', 'Bisha', 'Turaif', 'Hafr Al-Bbatin', \"Ar'ar\", 'Rafhah', 'Najran', 'Abha', 'Qurrayat', 'Al-Baha', 'Sharurah', 'Al-Ahsa', 'Wadi Al-Dawasir', 'Al-Qaysumah']\n",
            "{'Riyadh': [35.1, 40.3, 42.1, 44.1, 44.8, 41.4, 36.4, 27.7, 26.0], 'Jeddah': [35.2, 37.7, 39.8, 40.6, 38.3, 37.6, 36.8, 33.9, 31.1], 'Makkah': [39.9, 43.0, 44.3, 43.3, 42.1, 42.8, 41.1, 36.4, 33.3], 'Madinah': [37.3, 40.1, 42.6, 43.0, 45.9, 42.9, 37.9, 31.3, 28.5], 'Dhahran': [34.8, 39.9, 42.0, 44.1, 43.1, 41.4, 37.3, 29.7, 27.0], 'Taif': [31.5, 34.6, 35.2, 35.2, 36.5, 35.6, 32.0, 27.1, 26.0], 'Tabouk': [30.7, 34.4, 38.2, 38.9, 40.6, 36.3, 31.6, 26.1, 19.5], 'Hail': [30.5, 34.5, 38.4, 40.0, 42.0, 38.7, 32.9, 24.8, 21.7], 'Al-Wajh': [30.1, 31.7, 32.6, 34.5, 34.1, 32.8, 31.4, 29.0, 25.7], 'Khamis Mushait': [28.2, 30.9, 31.7, 31.9, 32.4, 30.6, 28.2, 24.8, 24.6], 'Jazan': [35.5, 38.0, 38.4, 37.7, 37.8, 38.5, 37.6, 35.1, 32.7], 'Yanbu': [36.6, 40.1, 39.9, 40.6, 41.5, 41.2, 39.0, 33.7, 30.7], 'Al-Jawf': [29.5, 33.9, 38.5, 40.5, 42.3, 37.6, 31.2, 23.4, 18.6], 'Bisha': [35.6, 38.4, 39.0, 40.1, 41.1, 38.4, 34.7, 30.1, 30.2], 'Turaif': [25.9, 30.5, 35.9, 37.8, 38.9, 34.8, 28.5, 20.4, 16.7], 'Hafr Al-Bbatin': [34.8, 39.8, 43.1, 45.0, 46.6, 43.0, 36.4, 27.0, 22.3], \"Ar'ar\": [29.4, 34.6, 39.9, 42.6, 43.9, 39.5, 32.6, 24.2, 18.9], 'Rafhah': [32.0, 36.6, 40.9, 43.0, 45.4, 41.1, 34.0, 25.4, 20.5], 'Najran': [34.7, 37.9, 39.0, 39.8, 39.4, 36.6, 33.0, 28.3, 28.5], 'Abha': [27.0, 30.1, 30.9, 30.8, 31.1, 29.9, 27.1, 23.2, 22.7], 'Qurrayat': [28.5, 33.2, 37.7, 39.6, 39.3, 36.3, 30.7, 22.6, 18.5], 'Al-Baha': [30.9, 34.1, 34.6, 35.4, 36.2, 34.4, 30.3, 26.0, 25.5], 'Sharurah': [38.3, 42.3, 42.6, 43.4, 43.0, 40.9, 37.2, 31.3, 30.8], 'Al-Ahsa': [37.1, 43.2, 44.4, 46.5, 46.6, 44.0, 39.0, 30.2, 28.4], 'Wadi Al-Dawasir': [38.2, 42.0, 43.2, 44.6, 45.1, 42.0, 37.0, 30.2, 29.6], 'Al-Qaysumah': [35.0, 40.1, 42.9, 45.1, 47.1, 42.8, 36.2, 27.0, 22.3]}\n",
            "{'Riyadh': 37, 'Jeddah': 36, 'Makkah': 40, 'Madinah': 38, 'Dhahran': 37, 'Taif': 32, 'Tabouk': 32, 'Hail': 33, 'Al-Wajh': 31, 'Khamis Mushait': 29, 'Jazan': 36, 'Yanbu': 38, 'Al-Jawf': 32, 'Bisha': 36, 'Turaif': 29, 'Hafr Al-Bbatin': 37, \"Ar'ar\": 33, 'Rafhah': 35, 'Najran': 35, 'Abha': 28, 'Qurrayat': 31, 'Al-Baha': 31, 'Sharurah': 38, 'Al-Ahsa': 39, 'Wadi Al-Dawasir': 39, 'Al-Qaysumah': 37}\n"
          ]
        },
        {
          "name": "stdout",
          "output_type": "stream",
          "text": [
            "Selected Months: [1, 12]\n",
            "Selected Cities: ['Riyadh', 'Jeddah', 'Makkah', 'Madinah', 'Dhahran', 'Taif', 'Tabouk', 'Hail', 'Al-Wajh', 'Khamis Mushait', 'Jazan', 'Yanbu', 'Al-Jawf', 'Bisha', 'Turaif', 'Hafr Al-Bbatin', \"Ar'ar\", 'Rafhah', 'Najran', 'Abha', 'Qurrayat', 'Al-Baha', 'Sharurah', 'Al-Ahsa', 'Wadi Al-Dawasir', 'Al-Qaysumah']\n",
            "{'Riyadh': [22.7, 29.4, 35.1, 40.3, 42.1, 44.1, 44.8, 41.4, 36.4, 27.7, 26.0], 'Jeddah': [29.3, 33.7, 35.2, 37.7, 39.8, 40.6, 38.3, 37.6, 36.8, 33.9, 31.1], 'Makkah': [31.9, 36.3, 39.9, 43.0, 44.3, 43.3, 42.1, 42.8, 41.1, 36.4, 33.3], 'Madinah': [26.3, 31.9, 37.3, 40.1, 42.6, 43.0, 45.9, 42.9, 37.9, 31.3, 28.5], 'Dhahran': [23.5, 29.1, 34.8, 39.9, 42.0, 44.1, 43.1, 41.4, 37.3, 29.7, 27.0], 'Taif': [25.3, 27.2, 31.5, 34.6, 35.2, 35.2, 36.5, 35.6, 32.0, 27.1, 26.0], 'Tabouk': [20.4, 27.7, 30.7, 34.4, 38.2, 38.9, 40.6, 36.3, 31.6, 26.1, 19.5], 'Hail': [19.8, 25.6, 30.5, 34.5, 38.4, 40.0, 42.0, 38.7, 32.9, 24.8, 21.7], 'Al-Wajh': [24.5, 28.7, 30.1, 31.7, 32.6, 34.5, 34.1, 32.8, 31.4, 29.0, 25.7], 'Khamis Mushait': [23.6, 24.3, 28.2, 30.9, 31.7, 31.9, 32.4, 30.6, 28.2, 24.8, 24.6], 'Jazan': [31.2, 33.0, 35.5, 38.0, 38.4, 37.7, 37.8, 38.5, 37.6, 35.1, 32.7], 'Yanbu': [29.3, 32.9, 36.6, 40.1, 39.9, 40.6, 41.5, 41.2, 39.0, 33.7, 30.7], 'Al-Jawf': [18.6, 26.0, 29.5, 33.9, 38.5, 40.5, 42.3, 37.6, 31.2, 23.4, 18.6], 'Bisha': [28.4, 31.0, 35.6, 38.4, 39.0, 40.1, 41.1, 38.4, 34.7, 30.1, 30.2], 'Turaif': [16.6, 24.6, 25.9, 30.5, 35.9, 37.8, 38.9, 34.8, 28.5, 20.4, 16.7], 'Hafr Al-Bbatin': [22.0, 28.8, 34.8, 39.8, 43.1, 45.0, 46.6, 43.0, 36.4, 27.0, 22.3], \"Ar'ar\": [19.2, 27.0, 29.4, 34.6, 39.9, 42.6, 43.9, 39.5, 32.6, 24.2, 18.9], 'Rafhah': [21.1, 27.8, 32.0, 36.6, 40.9, 43.0, 45.4, 41.1, 34.0, 25.4, 20.5], 'Najran': [28.3, 30.2, 34.7, 37.9, 39.0, 39.8, 39.4, 36.6, 33.0, 28.3, 28.5], 'Abha': [22.0, 23.1, 27.0, 30.1, 30.9, 30.8, 31.1, 29.9, 27.1, 23.2, 22.7], 'Qurrayat': [18.8, 27.4, 28.5, 33.2, 37.7, 39.6, 39.3, 36.3, 30.7, 22.6, 18.5], 'Al-Baha': [25.5, 27.0, 30.9, 34.1, 34.6, 35.4, 36.2, 34.4, 30.3, 26.0, 25.5], 'Sharurah': [29.2, 34.3, 38.3, 42.3, 42.6, 43.4, 43.0, 40.9, 37.2, 31.3, 30.8], 'Al-Ahsa': [24.3, 31.5, 37.1, 43.2, 44.4, 46.5, 46.6, 44.0, 39.0, 30.2, 28.4], 'Wadi Al-Dawasir': [27.0, 32.8, 38.2, 42.0, 43.2, 44.6, 45.1, 42.0, 37.0, 30.2, 29.6], 'Al-Qaysumah': [21.6, 29.0, 35.0, 40.1, 42.9, 45.1, 47.1, 42.8, 36.2, 27.0, 22.3]}\n",
            "{'Riyadh': 35, 'Jeddah': 35, 'Makkah': 39, 'Madinah': 37, 'Dhahran': 35, 'Taif': 31, 'Tabouk': 31, 'Hail': 31, 'Al-Wajh': 30, 'Khamis Mushait': 28, 'Jazan': 35, 'Yanbu': 36, 'Al-Jawf': 30, 'Bisha': 35, 'Turaif': 28, 'Hafr Al-Bbatin': 35, \"Ar'ar\": 31, 'Rafhah': 33, 'Najran': 34, 'Abha': 27, 'Qurrayat': 30, 'Al-Baha': 30, 'Sharurah': 37, 'Al-Ahsa': 37, 'Wadi Al-Dawasir': 37, 'Al-Qaysumah': 35}\n"
          ]
        },
        {
          "name": "stdout",
          "output_type": "stream",
          "text": [
            "Selected Months: [1, 2]\n",
            "Selected Cities: ['Riyadh', 'Jeddah', 'Makkah', 'Madinah', 'Dhahran', 'Taif', 'Tabouk', 'Hail', 'Al-Wajh', 'Khamis Mushait', 'Jazan', 'Yanbu', 'Al-Jawf', 'Bisha', 'Turaif', 'Hafr Al-Bbatin', \"Ar'ar\", 'Rafhah', 'Najran', 'Abha', 'Qurrayat', 'Al-Baha', 'Sharurah', 'Al-Ahsa', 'Wadi Al-Dawasir', 'Al-Qaysumah']\n",
            "{'Riyadh': [22.7], 'Jeddah': [29.3], 'Makkah': [31.9], 'Madinah': [26.3], 'Dhahran': [23.5], 'Taif': [25.3], 'Tabouk': [20.4], 'Hail': [19.8], 'Al-Wajh': [24.5], 'Khamis Mushait': [23.6], 'Jazan': [31.2], 'Yanbu': [29.3], 'Al-Jawf': [18.6], 'Bisha': [28.4], 'Turaif': [16.6], 'Hafr Al-Bbatin': [22.0], \"Ar'ar\": [19.2], 'Rafhah': [21.1], 'Najran': [28.3], 'Abha': [22.0], 'Qurrayat': [18.8], 'Al-Baha': [25.5], 'Sharurah': [29.2], 'Al-Ahsa': [24.3], 'Wadi Al-Dawasir': [27.0], 'Al-Qaysumah': [21.6]}\n",
            "{'Riyadh': 22, 'Jeddah': 29, 'Makkah': 31, 'Madinah': 26, 'Dhahran': 23, 'Taif': 25, 'Tabouk': 20, 'Hail': 19, 'Al-Wajh': 24, 'Khamis Mushait': 23, 'Jazan': 31, 'Yanbu': 29, 'Al-Jawf': 18, 'Bisha': 28, 'Turaif': 16, 'Hafr Al-Bbatin': 22, \"Ar'ar\": 19, 'Rafhah': 21, 'Najran': 28, 'Abha': 22, 'Qurrayat': 18, 'Al-Baha': 25, 'Sharurah': 29, 'Al-Ahsa': 24, 'Wadi Al-Dawasir': 27, 'Al-Qaysumah': 21}\n"
          ]
        },
        {
          "name": "stdout",
          "output_type": "stream",
          "text": [
            "Selected Months: [1, 3]\n",
            "Selected Cities: ['Riyadh', 'Jeddah', 'Makkah', 'Madinah', 'Dhahran', 'Taif', 'Tabouk', 'Hail', 'Al-Wajh', 'Khamis Mushait', 'Jazan', 'Yanbu', 'Al-Jawf', 'Bisha', 'Turaif', 'Hafr Al-Bbatin', \"Ar'ar\", 'Rafhah', 'Najran', 'Abha', 'Qurrayat', 'Al-Baha', 'Sharurah', 'Al-Ahsa', 'Wadi Al-Dawasir', 'Al-Qaysumah']\n",
            "{'Riyadh': [22.7, 29.4], 'Jeddah': [29.3, 33.7], 'Makkah': [31.9, 36.3], 'Madinah': [26.3, 31.9], 'Dhahran': [23.5, 29.1], 'Taif': [25.3, 27.2], 'Tabouk': [20.4, 27.7], 'Hail': [19.8, 25.6], 'Al-Wajh': [24.5, 28.7], 'Khamis Mushait': [23.6, 24.3], 'Jazan': [31.2, 33.0], 'Yanbu': [29.3, 32.9], 'Al-Jawf': [18.6, 26.0], 'Bisha': [28.4, 31.0], 'Turaif': [16.6, 24.6], 'Hafr Al-Bbatin': [22.0, 28.8], \"Ar'ar\": [19.2, 27.0], 'Rafhah': [21.1, 27.8], 'Najran': [28.3, 30.2], 'Abha': [22.0, 23.1], 'Qurrayat': [18.8, 27.4], 'Al-Baha': [25.5, 27.0], 'Sharurah': [29.2, 34.3], 'Al-Ahsa': [24.3, 31.5], 'Wadi Al-Dawasir': [27.0, 32.8], 'Al-Qaysumah': [21.6, 29.0]}\n",
            "{'Riyadh': 26, 'Jeddah': 31, 'Makkah': 34, 'Madinah': 29, 'Dhahran': 26, 'Taif': 26, 'Tabouk': 24, 'Hail': 22, 'Al-Wajh': 26, 'Khamis Mushait': 23, 'Jazan': 32, 'Yanbu': 31, 'Al-Jawf': 22, 'Bisha': 29, 'Turaif': 20, 'Hafr Al-Bbatin': 25, \"Ar'ar\": 23, 'Rafhah': 24, 'Najran': 29, 'Abha': 22, 'Qurrayat': 23, 'Al-Baha': 26, 'Sharurah': 31, 'Al-Ahsa': 27, 'Wadi Al-Dawasir': 29, 'Al-Qaysumah': 25}\n"
          ]
        }
      ],
      "source": [
        "# Title and Project Description\n",
        "title = widgets.Label(value='Tourism Recommender', style={'font_weight': 'bold', 'font_size': '24px'})\n",
        "description = widgets.HTML(value=\"\"\"\n",
        "    <p>This Tourism Recommender guides travelers to the best cities in Saudi Arabia based on weather. \n",
        "    By selecting months, users see recommended cities with ideal weather conditions. The data, sourced from \n",
        "    the <a href='https://open.data.gov.sa/ar/datasets/view/2c95f8d9-c1a9-4c4d-a1d4-b7de55a87136/resources' target='_blank'>Kingdom of Saudi Arabia Open Data Platform</a>, \n",
        "    helps tourists plan their visits for an optimal travel experience.</p>\"\"\",\n",
        "    style={'font_size': '16px'})\n",
        "\n",
        "# Months filter setup\n",
        "dates = [datetime.date(2015, i, 1) for i in range(1, 13)]\n",
        "options = [(i.strftime('%b'), i) for i in dates]\n",
        "slider = widgets.SelectionRangeSlider(\n",
        "    options=options,\n",
        "    index=(0, 11),\n",
        "    description=\"Select range of months: \",\n",
        "    continuous_update=False\n",
        ")\n",
        "\n",
        "# Cities filter setup\n",
        "cities_checkboxes = {city: widgets.Checkbox(value=True, description=city, indent=False) for city in global_data.keys()}\n",
        "cities_box = widgets.VBox(list(cities_checkboxes.values()))\n",
        "\n",
        "# Accordion to hold filters\n",
        "accordion = widgets.Accordion(children=[widgets.VBox([slider]), cities_box], titles=(\"Months\", \"Cities\"))\n",
        "\n",
        "# Display function on widget interaction\n",
        "def on_change(change):\n",
        "    if change['type'] == 'change' and change['name'] == 'value':\n",
        "        month_range = slider.value\n",
        "        month_range =[month_range[0].month,month_range[1].month]\n",
        "        selected_cities = [city for city, cb in cities_checkboxes.items() if cb.value]\n",
        "        print(f\"Selected Months: {month_range}\")\n",
        "        print(f\"Selected Cities: {selected_cities}\")\n",
        "        new_filtered_data = data_filter(month_range,selected_cities,global_data)\n",
        "        print(new_filtered_data)\n",
        "        new_filtered_cal_data = calculate_mean_temperature(new_filtered_data)\n",
        "        print(new_filtered_cal_data)\n",
        "        update(new_filtered_cal_data)  # Pass current state of data for processing\n",
        "\n",
        "# add onChange event\n",
        "slider.observe(on_change)\n",
        "for checkbox in cities_checkboxes.values():\n",
        "    checkbox.observe(on_change)\n",
        "\n",
        "# Display title and description\n",
        "display(title, description)\n",
        "\n",
        "# Display accordion for filters\n",
        "display(accordion)\n",
        "\n",
        "# Create an output widget to display results\n",
        "output = widgets.Output()\n",
        "\n",
        "# Function to update the displayed data, adjusted to output widget\n",
        "def update(updateData):\n",
        "    with output:\n",
        "        output.clear_output()  # Clear the existing output\n",
        "        # Proceed with your sorted data and HTML table generation\n",
        "        sorted_cities = sorted(updateData.items(), key=lambda x: x[1], reverse=True)[:5]\n",
        "        html = '<table style=\"width:50%; margin: auto; border-collapse: collapse; border: 1px solid black;\">'\n",
        "        html += '<caption style=\"font-size: 20px; font-weight: bold; margin: 10px;\">Top 5 Cities by Mean Temperature</caption>'\n",
        "        html += '<tr><th style=\"border: 1px solid black; padding: 8px; text-align: center;\">City</th><th style=\"border: 1px solid black; padding: 8px; text-align: center;\">Mean Temperature (°C)</th></tr>'\n",
        "        for city, temp in sorted_cities:\n",
        "            html += f'<tr><td style=\"border: 1px solid black; padding: 8px; text-align: center;\">{city}</td><td style=\"border: 1px solid black; padding: 8px; text-align: center;\">{temp}</td></tr>'\n",
        "        html += '</table>'\n",
        "        display(widgets.HTML(value=html))\n",
        "\n",
        "# Display the output widget below the accordion\n",
        "display(output)\n"
      ]
    },
    {
      "cell_type": "code",
      "execution_count": null,
      "metadata": {},
      "outputs": [],
      "source": []
    },
    {
      "cell_type": "code",
      "execution_count": null,
      "metadata": {},
      "outputs": [],
      "source": []
    }
  ],
  "metadata": {
    "kernelspec": {
      "display_name": "Python 3 (ipykernel)",
      "language": "python",
      "name": "python3"
    },
    "language_info": {
      "codemirror_mode": {
        "name": "ipython",
        "version": 3
      },
      "file_extension": ".py",
      "mimetype": "text/x-python",
      "name": "python",
      "nbconvert_exporter": "python",
      "pygments_lexer": "ipython3",
      "version": "3.11.1"
    },
    "varInspector": {
      "cols": {
        "lenName": 16,
        "lenType": 16,
        "lenVar": 40
      },
      "kernels_config": {
        "python": {
          "delete_cmd_postfix": "",
          "delete_cmd_prefix": "del ",
          "library": "var_list.py",
          "varRefreshCmd": "print(var_dic_list())"
        },
        "r": {
          "delete_cmd_postfix": ") ",
          "delete_cmd_prefix": "rm(",
          "library": "var_list.r",
          "varRefreshCmd": "cat(var_dic_list()) "
        }
      },
      "types_to_exclude": [
        "module",
        "function",
        "builtin_function_or_method",
        "instance",
        "_Feature"
      ],
      "window_display": false
    }
  },
  "nbformat": 4,
  "nbformat_minor": 2
}
