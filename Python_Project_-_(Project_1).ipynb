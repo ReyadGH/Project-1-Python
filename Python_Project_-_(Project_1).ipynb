{
 "cells": [
  {
   "cell_type": "markdown",
   "metadata": {},
   "source": [
    "# Project intro & description\n",
    "\n",
    "This project will ..."
   ]
  },
  {
   "cell_type": "markdown",
   "metadata": {},
   "source": [
    "# Requirment (We may not need it)"
   ]
  },
  {
   "cell_type": "code",
   "execution_count": null,
   "metadata": {},
   "outputs": [],
   "source": [
    "#! pip install #somthing"
   ]
  },
  {
   "cell_type": "markdown",
   "metadata": {},
   "source": [
    "## Setup\n",
    "\n",
    "The next cell is for initiating the project imports and global variables"
   ]
  },
  {
   "cell_type": "code",
   "execution_count": 27,
   "metadata": {},
   "outputs": [
    {
     "data": {
      "text/plain": [
       "' This dictionary should contain records for the temperature of each city by month and also the annual average temperature at the end of a list. '"
      ]
     },
     "execution_count": 27,
     "metadata": {},
     "output_type": "execute_result"
    }
   ],
   "source": [
    "data = {}\n",
    "''' This dictionary should contain records for the temperature of each city by month and also the annual average temperature at the end of a list. '''"
   ]
  },
  {
   "cell_type": "markdown",
   "metadata": {},
   "source": [
    "## some text"
   ]
  },
  {
   "cell_type": "code",
   "execution_count": 59,
   "metadata": {},
   "outputs": [
    {
     "name": "stdout",
     "output_type": "stream",
     "text": [
      "Loading files...\n",
      "Data loaded: {'Riyadh': [19.9, 22.7, 29.4, 35.1, 40.3, 42.1, 44.1, 44.8, 41.4, 36.4, 27.7, 26.0, 34.2], 'Jeddah': [29.1, 29.3, 33.7, 35.2, 37.7, 39.8, 40.6, 38.3, 37.6, 36.8, 33.9, 31.1, 35.3], 'Makkah': [30.4, 31.9, 36.3, 39.9, 43.0, 44.3, 43.3, 42.1, 42.8, 41.1, 36.4, 33.3, 38.7], 'Madinah': [24.2, 26.3, 31.9, 37.3, 40.1, 42.6, 43.0, 45.9, 42.9, 37.9, 31.3, 28.5, 36.0], 'Dhahran': [21.7, 23.5, 29.1, 34.8, 39.9, 42.0, 44.1, 43.1, 41.4, 37.3, 29.7, 27.0, 34.5], 'Taif': [22.0, 25.3, 27.2, 31.5, 34.6, 35.2, 35.2, 36.5, 35.6, 32.0, 27.1, 26.0, 30.7], 'Tabouk': [18.8, 20.4, 27.7, 30.7, 34.4, 38.2, 38.9, 40.6, 36.3, 31.6, 26.1, 19.5, 30.3], 'Hail': [17.3, 19.8, 25.6, 30.5, 34.5, 38.4, 40.0, 42.0, 38.7, 32.9, 24.8, 21.7, 30.5], 'Al-Wajh': [24.9, 24.5, 28.7, 30.1, 31.7, 32.6, 34.5, 34.1, 32.8, 31.4, 29.0, 25.7, 30.0], 'Khamis Mushait': [21.6, 23.6, 24.3, 28.2, 30.9, 31.7, 31.9, 32.4, 30.6, 28.2, 24.8, 24.6, 27.7], 'Jazan': [30.3, 31.2, 33.0, 35.5, 38.0, 38.4, 37.7, 37.8, 38.5, 37.6, 35.1, 32.7, 35.5], 'Yanbu': [29.0, 29.3, 32.9, 36.6, 40.1, 39.9, 40.6, 41.5, 41.2, 39.0, 33.7, 30.7, 36.2], 'Al-Jawf': [16.1, 18.6, 26.0, 29.5, 33.9, 38.5, 40.5, 42.3, 37.6, 31.2, 23.4, 18.6, 30.3], 'Bisha': [25.1, 28.4, 31.0, 35.6, 38.4, 39.0, 40.1, 41.1, 38.4, 34.7, 30.1, 30.2, 34.3], 'Turaif': [15.3, 16.6, 24.6, 25.9, 30.5, 35.9, 37.8, 38.9, 34.8, 28.5, 20.4, 16.7, 27.2], 'Hafr Al-Bbatin': [17.6, 22.0, 28.8, 34.8, 39.8, 43.1, 45.0, 46.6, 43.0, 36.4, 27.0, 22.3, 33.9], \"Ar'ar\": [15.9, 19.2, 27.0, 29.4, 34.6, 39.9, 42.6, 43.9, 39.5, 32.6, 24.2, 18.9, 30.6], 'Rafhah': [17.0, 21.1, 27.8, 32.0, 36.6, 40.9, 43.0, 45.4, 41.1, 34.0, 25.4, 20.5, 32.1], 'Najran': [24.1, 28.3, 30.2, 34.7, 37.9, 39.0, 39.8, 39.4, 36.6, 33.0, 28.3, 28.5, 33.3], 'Abha': [19.6, 22.0, 23.1, 27.0, 30.1, 30.9, 30.8, 31.1, 29.9, 27.1, 23.2, 22.7, 26.5], 'Qurrayat': [17.5, 18.8, 27.4, 28.5, 33.2, 37.7, 39.6, 39.3, 36.3, 30.7, 22.6, 18.5, 29.2], 'Al-Baha': [22.3, 25.5, 27.0, 30.9, 34.1, 34.6, 35.4, 36.2, 34.4, 30.3, 26.0, 25.5, 30.2], 'Sharurah': [24.5, 29.2, 34.3, 38.3, 42.3, 42.6, 43.4, 43.0, 40.9, 37.2, 31.3, 30.8, 36.5], 'Al-Ahsa': [21.3, 24.3, 31.5, 37.1, 43.2, 44.4, 46.5, 46.6, 44.0, 39.0, 30.2, 28.4, 36.4], 'Wadi Al-Dawasir': [23.7, 27.0, 32.8, 38.2, 42.0, 43.2, 44.6, 45.1, 42.0, 37.0, 30.2, 29.6, 36.3], 'Al-Qaysumah': [17.2, 21.6, 29.0, 35.0, 40.1, 42.9, 45.1, 47.1, 42.8, 36.2, 27.0, 22.3, 33.9]}\n"
     ]
    }
   ],
   "source": [
    "def data_loader(target: str):\n",
    "    '''     \n",
    "    Loads numerical data from a CSV file into a global dictionary.\n",
    "    \n",
    "    Parameters:\n",
    "    - target (str): Path to the CSV file.\n",
    "\n",
    "    Example:\n",
    "    output = { \"Riyadh\": [30.1, 32.5, ...], ...}\n",
    "'''\n",
    "    # clear the data\n",
    "    data.clear()\n",
    "\n",
    "    print(\"Loading files...\")\n",
    "    \n",
    "    # open target file\n",
    "    dataFile = open(target, \"r\")\n",
    "    \n",
    "    # here we split the data after reading by line\n",
    "    linesList = dataFile.read().split(\"\\n\")\n",
    "    \n",
    "    # here we remove the header for this file\n",
    "    linesList.remove(linesList[0])\n",
    "\n",
    "    # here we split and cast the data for each line\n",
    "    for line in linesList:\n",
    "        # here we define 2 variables to store both key and the value for the dict\n",
    "        key, value  = line.split(\",\")[0], [float(f) for f in line.split(\",\")[1:]]\n",
    "        data[key] = value\n",
    "\n",
    "    # Or we can use the code below insted of the loop\n",
    "    # data = {n.split(\",\")[0] : ([float(f) for f in n.split(\",\")[1:]]) for n in linesList} # this is another solution to our problem\n",
    "\n",
    "data_loader(\"data.csv\")\n",
    "print(f\"Data loaded: {data}\")"
   ]
  },
  {
   "cell_type": "markdown",
   "metadata": {},
   "source": [
    "## some text"
   ]
  },
  {
   "cell_type": "code",
   "execution_count": null,
   "metadata": {},
   "outputs": [],
   "source": [
    "# this function will handle user prefrenceses such as the months range and the cities\n",
    "def data_filter():\n",
    "    pass"
   ]
  },
  {
   "cell_type": "markdown",
   "metadata": {},
   "source": [
    "## some text"
   ]
  },
  {
   "cell_type": "code",
   "execution_count": null,
   "metadata": {},
   "outputs": [],
   "source": [
    "# this function should handle the calculation for a given filterd data\n",
    "def calculate_mean_temperature():\n",
    "    pass"
   ]
  },
  {
   "cell_type": "markdown",
   "metadata": {},
   "source": [
    "## some text"
   ]
  },
  {
   "cell_type": "code",
   "execution_count": null,
   "metadata": {},
   "outputs": [],
   "source": [
    "# this function should handle the logic for the recommender\n",
    "def recommend_cities():\n",
    "    pass"
   ]
  },
  {
   "cell_type": "markdown",
   "metadata": {},
   "source": [
    "# we will leave this cell for extra need"
   ]
  },
  {
   "cell_type": "code",
   "execution_count": null,
   "metadata": {},
   "outputs": [],
   "source": []
  }
 ],
 "metadata": {
  "kernelspec": {
   "display_name": "Python 3",
   "language": "python",
   "name": "python3"
  },
  "language_info": {
   "codemirror_mode": {
    "name": "ipython",
    "version": 3
   },
   "file_extension": ".py",
   "mimetype": "text/x-python",
   "name": "python",
   "nbconvert_exporter": "python",
   "pygments_lexer": "ipython3",
   "version": "3.11.1"
  }
 },
 "nbformat": 4,
 "nbformat_minor": 2
}
